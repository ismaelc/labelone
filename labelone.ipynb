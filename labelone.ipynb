{
 "cells": [
  {
   "cell_type": "code",
   "execution_count": 8,
   "id": "e8956ae2-2c88-48ab-beb1-2f6b0e4c35b3",
   "metadata": {},
   "outputs": [
    {
     "data": {
      "application/vnd.jupyter.widget-view+json": {
       "model_id": "de5c4a1f84a1491eb2ea8f449f1b802d",
       "version_major": 2,
       "version_minor": 0
      },
      "text/plain": [
       "Output()"
      ]
     },
     "metadata": {},
     "output_type": "display_data"
    }
   ],
   "source": [
    "from labelone import LabelOne\n",
    "LabelOne(\n",
    "    input_csv='input.csv',\n",
    "    output_csv='output.csv',\n",
    "    text_column='tokens',\n",
    "    image_column='image_path',\n",
    "    annotation_column='mark',\n",
    "    words_column='tokens',\n",
    "    bboxes_column='bboxes',\n",
    "    labels_column='ner_tags',\n",
    "    #width='900px',   #         <------ Adjust the UI size accordingly if needed\n",
    "    #height='1000px',\n",
    "    #edit_width='900px',\n",
    "    #edit_height='45px',\n",
    "    display_labelword_df=True\n",
    ").load()"
   ]
  },
  {
   "cell_type": "code",
   "execution_count": null,
   "id": "0ae0aad0-22b8-4c7a-833f-7dbbcb848614",
   "metadata": {},
   "outputs": [],
   "source": []
  }
 ],
 "metadata": {
  "kernelspec": {
   "display_name": "Python 3 (ipykernel)",
   "language": "python",
   "name": "python3"
  },
  "language_info": {
   "codemirror_mode": {
    "name": "ipython",
    "version": 3
   },
   "file_extension": ".py",
   "mimetype": "text/x-python",
   "name": "python",
   "nbconvert_exporter": "python",
   "pygments_lexer": "ipython3",
   "version": "3.8.13"
  }
 },
 "nbformat": 4,
 "nbformat_minor": 5
}
